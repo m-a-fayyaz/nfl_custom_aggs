{
 "cells": [
  {
   "cell_type": "code",
   "execution_count": 1,
   "id": "77890950",
   "metadata": {},
   "outputs": [],
   "source": [
    "import os\n",
    "import sys\n",
    "import pandas as pd\n",
    "import numpy as np\n",
    "import nfl_data_py as nfl\n",
    "\n",
    "path = r\"..\\utils\\__init__.py\"\n",
    "\n",
    "PROJECT_ROOT = os.path.abspath(os.path.join(\n",
    "                  os.path.dirname(path), \n",
    "                  os.pardir))\n",
    "sys.path.append(PROJECT_ROOT)\n",
    "\n",
    "from utils import *"
   ]
  },
  {
   "cell_type": "code",
   "execution_count": 2,
   "id": "5c70b499",
   "metadata": {},
   "outputs": [
    {
     "name": "stdout",
     "output_type": "stream",
     "text": [
      "2022 done.\n",
      "Downcasting floats.\n",
      "Adding participation data.\n",
      "Adding fantasy data.\n"
     ]
    }
   ],
   "source": [
    "df = import_enrich_pbp_data(years=[2022], regular=True)"
   ]
  },
  {
   "cell_type": "code",
   "execution_count": null,
   "id": "01b32ff6",
   "metadata": {},
   "outputs": [],
   "source": [
    "fanatsy_off_agg_df = fantasy_player_off_agg(pbp_data, level='week')\n",
    "fanatsy_off_agg_df.dtypes"
   ]
  },
  {
   "cell_type": "code",
   "execution_count": null,
   "id": "1ae146dd",
   "metadata": {},
   "outputs": [],
   "source": [
    "rec_agg_df = player_rec_agg(pbp_data, level='week')\n",
    "rec_agg_df.dtypes"
   ]
  },
  {
   "cell_type": "code",
   "execution_count": null,
   "id": "01470e26",
   "metadata": {},
   "outputs": [],
   "source": [
    "rush_agg_df = player_rush_agg(pbp_data, level='week')\n",
    "rec_agg_df.dtypes"
   ]
  },
  {
   "cell_type": "code",
   "execution_count": null,
   "id": "9b70d186",
   "metadata": {},
   "outputs": [],
   "source": [
    "agg_index = agg_indexer(level='week', add_index=['player_id'])\n",
    "agg_index"
   ]
  },
  {
   "cell_type": "code",
   "execution_count": null,
   "id": "cde5be71",
   "metadata": {},
   "outputs": [],
   "source": [
    "fanatsy_off_agg_df.merge(rec_agg_df, how='outer', on=agg_index)"
   ]
  },
  {
   "cell_type": "code",
   "execution_count": null,
   "id": "5068a9d8",
   "metadata": {},
   "outputs": [],
   "source": [
    "filepath = \"../data/pbp_fantasy_2018_2021.csv\"\n",
    "df = pd.read_csv(filepath_or_buffer=filepath, low_memory=False)"
   ]
  },
  {
   "cell_type": "code",
   "execution_count": null,
   "id": "0dbd9900",
   "metadata": {},
   "outputs": [],
   "source": [
    "df.shape"
   ]
  },
  {
   "cell_type": "code",
   "execution_count": null,
   "id": "bb7d7363",
   "metadata": {},
   "outputs": [],
   "source": [
    "\"../utils/__init__.py\""
   ]
  },
  {
   "cell_type": "code",
   "execution_count": null,
   "id": "0074d875",
   "metadata": {},
   "outputs": [],
   "source": [
    "config_path = r\"..\\fantasy_config.yml\"\n",
    "\n",
    "read_yaml(config_path)"
   ]
  },
  {
   "cell_type": "code",
   "execution_count": null,
   "id": "484c90a6",
   "metadata": {},
   "outputs": [],
   "source": [
    "import os\n",
    "\n",
    "path = r\"C:\\Users\\fayya\\Desktop\\jupyter_notebooks\\nfl_pbp\\utils\"\n",
    "\n",
    "print(os.path.dirname(path))"
   ]
  },
  {
   "cell_type": "code",
   "execution_count": null,
   "id": "e54e0d9b",
   "metadata": {},
   "outputs": [],
   "source": []
  }
 ],
 "metadata": {
  "kernelspec": {
   "display_name": "Python 3",
   "language": "python",
   "name": "python3"
  },
  "language_info": {
   "codemirror_mode": {
    "name": "ipython",
    "version": 3
   },
   "file_extension": ".py",
   "mimetype": "text/x-python",
   "name": "python",
   "nbconvert_exporter": "python",
   "pygments_lexer": "ipython3",
   "version": "3.8.8"
  }
 },
 "nbformat": 4,
 "nbformat_minor": 5
}
